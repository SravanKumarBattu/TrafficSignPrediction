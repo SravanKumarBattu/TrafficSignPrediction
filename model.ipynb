{
 "cells": [
  {
   "cell_type": "code",
   "execution_count": 91,
   "id": "c589ddd7",
   "metadata": {},
   "outputs": [],
   "source": [
    "from keras.models import Sequential\n",
    "from keras.layers import Convolution2D\n",
    "from keras.layers import MaxPooling2D\n",
    "from keras.layers import Flatten\n",
    "from keras.layers import Dense"
   ]
  },
  {
   "cell_type": "code",
   "execution_count": 92,
   "id": "5ad8bc8a",
   "metadata": {},
   "outputs": [],
   "source": [
    "model = Sequential()"
   ]
  },
  {
   "cell_type": "code",
   "execution_count": 93,
   "id": "917eb7a6",
   "metadata": {},
   "outputs": [],
   "source": [
    "model.add(Convolution2D(32, (3, 3), input_shape=(64,64,3), activation='relu'))\n",
    "model.add(MaxPooling2D(pool_size=(2,2)))\n",
    "model.add(Convolution2D(32, (3, 3), input_shape=(64,64,3), activation='relu'))\n",
    "model.add(MaxPooling2D(pool_size=(2,2)))"
   ]
  },
  {
   "cell_type": "code",
   "execution_count": 94,
   "id": "6f1ba4d2",
   "metadata": {},
   "outputs": [],
   "source": [
    "model.add(Convolution2D(32, (3, 3), input_shape=(64,64,3), activation='relu'))\n",
    "model.add(MaxPooling2D(pool_size=(2,2)))\n",
    "model.add(Convolution2D(32, (3, 3), input_shape=(64,64,3), activation='relu'))\n",
    "model.add(MaxPooling2D(pool_size=(2,2)))"
   ]
  },
  {
   "cell_type": "code",
   "execution_count": 95,
   "id": "e7653d43",
   "metadata": {},
   "outputs": [],
   "source": [
    "model.add(Flatten())"
   ]
  },
  {
   "cell_type": "code",
   "execution_count": 96,
   "id": "fe95b4aa",
   "metadata": {},
   "outputs": [
    {
     "data": {
      "text/plain": [
       "<keras.engine.sequential.Sequential at 0x7fef4e9f5730>"
      ]
     },
     "execution_count": 96,
     "metadata": {},
     "output_type": "execute_result"
    }
   ],
   "source": [
    "model"
   ]
  },
  {
   "cell_type": "code",
   "execution_count": 97,
   "id": "e70fe0b1",
   "metadata": {},
   "outputs": [],
   "source": [
    "model.add(Dense(units=256,activation='relu',kernel_initializer='uniform'))\n",
    "model.add(Dense(units=128,activation='relu',kernel_initializer='uniform'))\n",
    "model.add(Dense(units=64,activation='relu',kernel_initializer='uniform'))\n",
    "model.add(Dense(units=43,activation='softmax',kernel_initializer='uniform'))"
   ]
  },
  {
   "cell_type": "code",
   "execution_count": 98,
   "id": "c108ab93",
   "metadata": {},
   "outputs": [],
   "source": [
    "from keras.preprocessing.image import ImageDataGenerator"
   ]
  },
  {
   "cell_type": "code",
   "execution_count": 99,
   "id": "f68419a4",
   "metadata": {},
   "outputs": [],
   "source": [
    "train_Datagen=ImageDataGenerator(rescale=1./255,shear_range=0.2,zoom_range=0.2,horizontal_flip=True)"
   ]
  },
  {
   "cell_type": "code",
   "execution_count": 100,
   "id": "e3f09a2a",
   "metadata": {},
   "outputs": [],
   "source": [
    "test_Datagen=ImageDataGenerator(rescale=1./255)"
   ]
  },
  {
   "cell_type": "code",
   "execution_count": 101,
   "id": "14670585",
   "metadata": {},
   "outputs": [
    {
     "data": {
      "text/plain": [
       "<keras.preprocessing.image.ImageDataGenerator at 0x7fef4e8b27c0>"
      ]
     },
     "execution_count": 101,
     "metadata": {},
     "output_type": "execute_result"
    }
   ],
   "source": [
    "train_Datagen\n"
   ]
  },
  {
   "cell_type": "code",
   "execution_count": 102,
   "id": "1a7608c1",
   "metadata": {},
   "outputs": [
    {
     "name": "stdout",
     "output_type": "stream",
     "text": [
      "Found 26596 images belonging to 43 classes.\n"
     ]
    }
   ],
   "source": [
    "x_train=train_Datagen.flow_from_directory(r\"/home/sravankumar/Desktop/07/major project/Dataset/simplifieddata/train\",target_size=(64,64),batch_size=2,class_mode='categorical')"
   ]
  },
  {
   "cell_type": "code",
   "execution_count": 103,
   "id": "97c9b931",
   "metadata": {},
   "outputs": [
    {
     "name": "stdout",
     "output_type": "stream",
     "text": [
      "Found 3816 images belonging to 43 classes.\n"
     ]
    }
   ],
   "source": [
    "x_test=test_Datagen.flow_from_directory(r\"/home/sravankumar/Desktop/07/major project/Dataset/simplifieddata/test\",target_size=(64,64),batch_size=2,class_mode='categorical')"
   ]
  },
  {
   "cell_type": "code",
   "execution_count": 104,
   "id": "ecd1aa9b",
   "metadata": {
    "scrolled": true
   },
   "outputs": [
    {
     "data": {
      "text/plain": [
       "{'0': 0,\n",
       " '1': 1,\n",
       " '10': 2,\n",
       " '11': 3,\n",
       " '12': 4,\n",
       " '13': 5,\n",
       " '14': 6,\n",
       " '15': 7,\n",
       " '16': 8,\n",
       " '17': 9,\n",
       " '18': 10,\n",
       " '19': 11,\n",
       " '2': 12,\n",
       " '20': 13,\n",
       " '21': 14,\n",
       " '22': 15,\n",
       " '23': 16,\n",
       " '24': 17,\n",
       " '25': 18,\n",
       " '26': 19,\n",
       " '27': 20,\n",
       " '28': 21,\n",
       " '29': 22,\n",
       " '3': 23,\n",
       " '30': 24,\n",
       " '31': 25,\n",
       " '32': 26,\n",
       " '33': 27,\n",
       " '34': 28,\n",
       " '35': 29,\n",
       " '36': 30,\n",
       " '37': 31,\n",
       " '38': 32,\n",
       " '39': 33,\n",
       " '4': 34,\n",
       " '40': 35,\n",
       " '41': 36,\n",
       " '42': 37,\n",
       " '5': 38,\n",
       " '6': 39,\n",
       " '7': 40,\n",
       " '8': 41,\n",
       " '9': 42}"
      ]
     },
     "execution_count": 104,
     "metadata": {},
     "output_type": "execute_result"
    }
   ],
   "source": [
    "x_train.class_indices"
   ]
  },
  {
   "cell_type": "code",
   "execution_count": 105,
   "id": "639f5ae6",
   "metadata": {},
   "outputs": [
    {
     "data": {
      "text/plain": [
       "{'0': 0,\n",
       " '1': 1,\n",
       " '10': 2,\n",
       " '11': 3,\n",
       " '12': 4,\n",
       " '13': 5,\n",
       " '14': 6,\n",
       " '15': 7,\n",
       " '16': 8,\n",
       " '17': 9,\n",
       " '18': 10,\n",
       " '19': 11,\n",
       " '2': 12,\n",
       " '20': 13,\n",
       " '21': 14,\n",
       " '22': 15,\n",
       " '23': 16,\n",
       " '24': 17,\n",
       " '25': 18,\n",
       " '26': 19,\n",
       " '27': 20,\n",
       " '28': 21,\n",
       " '29': 22,\n",
       " '3': 23,\n",
       " '30': 24,\n",
       " '31': 25,\n",
       " '32': 26,\n",
       " '33': 27,\n",
       " '34': 28,\n",
       " '35': 29,\n",
       " '36': 30,\n",
       " '37': 31,\n",
       " '38': 32,\n",
       " '39': 33,\n",
       " '4': 34,\n",
       " '40': 35,\n",
       " '41': 36,\n",
       " '42': 37,\n",
       " '5': 38,\n",
       " '6': 39,\n",
       " '7': 40,\n",
       " '8': 41,\n",
       " '9': 42}"
      ]
     },
     "execution_count": 105,
     "metadata": {},
     "output_type": "execute_result"
    }
   ],
   "source": [
    "x_test.class_indices"
   ]
  },
  {
   "cell_type": "code",
   "execution_count": 106,
   "id": "05837268",
   "metadata": {},
   "outputs": [],
   "source": [
    "model.compile(optimizer='adam',loss='categorical_crossentropy',metrics=['accuracy'])"
   ]
  },
  {
   "cell_type": "code",
   "execution_count": 107,
   "id": "49e35eaa",
   "metadata": {},
   "outputs": [
    {
     "name": "stdout",
     "output_type": "stream",
     "text": [
      "Epoch 1/15\n",
      "600/600 [==============================] - 6s 9ms/step - loss: 3.5814 - accuracy: 0.0575 - val_loss: 3.5242 - val_accuracy: 0.0722\n",
      "Epoch 2/15\n",
      "600/600 [==============================] - 5s 9ms/step - loss: 3.5113 - accuracy: 0.0692 - val_loss: 3.4872 - val_accuracy: 0.0944\n",
      "Epoch 3/15\n",
      "600/600 [==============================] - 5s 9ms/step - loss: 3.5205 - accuracy: 0.0558 - val_loss: 3.4424 - val_accuracy: 0.0611\n",
      "Epoch 4/15\n",
      "600/600 [==============================] - 5s 9ms/step - loss: 3.4394 - accuracy: 0.0592 - val_loss: 3.3178 - val_accuracy: 0.0722\n",
      "Epoch 5/15\n",
      "600/600 [==============================] - 5s 9ms/step - loss: 3.0516 - accuracy: 0.1175 - val_loss: 2.8030 - val_accuracy: 0.1667\n",
      "Epoch 6/15\n",
      "600/600 [==============================] - 7s 11ms/step - loss: 2.7237 - accuracy: 0.2167 - val_loss: 2.4662 - val_accuracy: 0.3000\n",
      "Epoch 7/15\n",
      "600/600 [==============================] - 5s 9ms/step - loss: 2.3450 - accuracy: 0.2842 - val_loss: 2.3855 - val_accuracy: 0.2833\n",
      "Epoch 8/15\n",
      "600/600 [==============================] - 5s 9ms/step - loss: 2.1455 - accuracy: 0.3250 - val_loss: 2.1267 - val_accuracy: 0.2944\n",
      "Epoch 9/15\n",
      "600/600 [==============================] - 5s 9ms/step - loss: 2.0561 - accuracy: 0.3433 - val_loss: 1.8511 - val_accuracy: 0.3944\n",
      "Epoch 10/15\n",
      "600/600 [==============================] - 6s 9ms/step - loss: 1.9424 - accuracy: 0.3500 - val_loss: 1.7893 - val_accuracy: 0.4111\n",
      "Epoch 11/15\n",
      "600/600 [==============================] - 6s 9ms/step - loss: 1.8799 - accuracy: 0.3800 - val_loss: 1.9098 - val_accuracy: 0.4278\n",
      "Epoch 12/15\n",
      "600/600 [==============================] - 6s 9ms/step - loss: 1.8655 - accuracy: 0.3867 - val_loss: 1.8944 - val_accuracy: 0.3611\n",
      "Epoch 13/15\n",
      "600/600 [==============================] - 5s 9ms/step - loss: 1.8373 - accuracy: 0.3967 - val_loss: 1.8630 - val_accuracy: 0.3500\n",
      "Epoch 14/15\n",
      "600/600 [==============================] - 6s 10ms/step - loss: 1.8201 - accuracy: 0.3767 - val_loss: 1.6884 - val_accuracy: 0.4056\n",
      "Epoch 15/15\n",
      "600/600 [==============================] - 6s 9ms/step - loss: 1.7490 - accuracy: 0.4025 - val_loss: 1.8139 - val_accuracy: 0.4111\n"
     ]
    },
    {
     "data": {
      "text/plain": [
       "<keras.callbacks.History at 0x7fef4e847b20>"
      ]
     },
     "execution_count": 107,
     "metadata": {},
     "output_type": "execute_result"
    }
   ],
   "source": [
    "model.fit(x_train,steps_per_epoch=600,epochs=15,validation_data=x_test,validation_steps=90)"
   ]
  },
  {
   "cell_type": "code",
   "execution_count": 109,
   "id": "28317633",
   "metadata": {},
   "outputs": [],
   "source": [
    "model.save('model.h5')"
   ]
  },
  {
   "cell_type": "code",
   "execution_count": null,
   "id": "f95e2708",
   "metadata": {},
   "outputs": [],
   "source": []
  }
 ],
 "metadata": {
  "kernelspec": {
   "display_name": "Python 3 (ipykernel)",
   "language": "python",
   "name": "python3"
  },
  "language_info": {
   "codemirror_mode": {
    "name": "ipython",
    "version": 3
   },
   "file_extension": ".py",
   "mimetype": "text/x-python",
   "name": "python",
   "nbconvert_exporter": "python",
   "pygments_lexer": "ipython3",
   "version": "3.9.7"
  }
 },
 "nbformat": 4,
 "nbformat_minor": 5
}
